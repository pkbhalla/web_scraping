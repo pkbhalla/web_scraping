{
  "nbformat": 4,
  "nbformat_minor": 0,
  "metadata": {
    "colab": {
      "provenance": [],
      "authorship_tag": "ABX9TyNJkDdyyy3OUQaERxO3I5DN"
    },
    "kernelspec": {
      "name": "python3",
      "display_name": "Python 3"
    },
    "language_info": {
      "name": "python"
    }
  },
  "cells": [
    {
      "cell_type": "code",
      "execution_count": 6,
      "metadata": {
        "id": "6R4aP1Z18KAQ"
      },
      "outputs": [],
      "source": [
        "from bs4 import BeautifulSoup as bs\n",
        "import requests, time\n",
        "import pandas as pd\n",
        "import urllib3"
      ]
    },
    {
      "cell_type": "code",
      "source": [
        "int(time.time())"
      ],
      "metadata": {
        "colab": {
          "base_uri": "https://localhost:8080/"
        },
        "id": "xAlh2khaMFuG",
        "outputId": "9d3e527c-e34c-43fb-a0cf-9929b3c28818"
      },
      "execution_count": 2,
      "outputs": [
        {
          "output_type": "execute_result",
          "data": {
            "text/plain": [
              "1692693812"
            ]
          },
          "metadata": {},
          "execution_count": 2
        }
      ]
    },
    {
      "cell_type": "code",
      "source": [
        "url = \"https://www.amazon.in/s?k=bags&crid=2M096C61O4MLT&qid=\"+str(int(time.time()))+\"&sprefix=ba%2Caps%2C283&ref=sr_pg_1\"\n",
        "urlslist = [url]\n",
        "for i in range(1,20):\n",
        "  urlslist.append(\"https://www.amazon.in/s?k=bags&\"+\"page=\"+str(i+1)+\"&crid=2M096C61O4MLT&qid=\"+str(int(time.time()))+\"&sprefix=ba%2Caps%2C283&ref=sr_pg_\"+str(i+1))\n",
        "print(urlslist)"
      ],
      "metadata": {
        "id": "D4y2lCa6BlvI",
        "colab": {
          "base_uri": "https://localhost:8080/"
        },
        "outputId": "323630ae-edf9-467d-b4a4-de8aa4c52964"
      },
      "execution_count": 3,
      "outputs": [
        {
          "output_type": "stream",
          "name": "stdout",
          "text": [
            "['https://www.amazon.in/s?k=bags&crid=2M096C61O4MLT&qid=1692693812&sprefix=ba%2Caps%2C283&ref=sr_pg_1', 'https://www.amazon.in/s?k=bags&page=2&crid=2M096C61O4MLT&qid=1692693812&sprefix=ba%2Caps%2C283&ref=sr_pg_2', 'https://www.amazon.in/s?k=bags&page=3&crid=2M096C61O4MLT&qid=1692693812&sprefix=ba%2Caps%2C283&ref=sr_pg_3', 'https://www.amazon.in/s?k=bags&page=4&crid=2M096C61O4MLT&qid=1692693812&sprefix=ba%2Caps%2C283&ref=sr_pg_4', 'https://www.amazon.in/s?k=bags&page=5&crid=2M096C61O4MLT&qid=1692693812&sprefix=ba%2Caps%2C283&ref=sr_pg_5', 'https://www.amazon.in/s?k=bags&page=6&crid=2M096C61O4MLT&qid=1692693812&sprefix=ba%2Caps%2C283&ref=sr_pg_6', 'https://www.amazon.in/s?k=bags&page=7&crid=2M096C61O4MLT&qid=1692693812&sprefix=ba%2Caps%2C283&ref=sr_pg_7', 'https://www.amazon.in/s?k=bags&page=8&crid=2M096C61O4MLT&qid=1692693812&sprefix=ba%2Caps%2C283&ref=sr_pg_8', 'https://www.amazon.in/s?k=bags&page=9&crid=2M096C61O4MLT&qid=1692693812&sprefix=ba%2Caps%2C283&ref=sr_pg_9', 'https://www.amazon.in/s?k=bags&page=10&crid=2M096C61O4MLT&qid=1692693812&sprefix=ba%2Caps%2C283&ref=sr_pg_10', 'https://www.amazon.in/s?k=bags&page=11&crid=2M096C61O4MLT&qid=1692693812&sprefix=ba%2Caps%2C283&ref=sr_pg_11', 'https://www.amazon.in/s?k=bags&page=12&crid=2M096C61O4MLT&qid=1692693812&sprefix=ba%2Caps%2C283&ref=sr_pg_12', 'https://www.amazon.in/s?k=bags&page=13&crid=2M096C61O4MLT&qid=1692693812&sprefix=ba%2Caps%2C283&ref=sr_pg_13', 'https://www.amazon.in/s?k=bags&page=14&crid=2M096C61O4MLT&qid=1692693812&sprefix=ba%2Caps%2C283&ref=sr_pg_14', 'https://www.amazon.in/s?k=bags&page=15&crid=2M096C61O4MLT&qid=1692693812&sprefix=ba%2Caps%2C283&ref=sr_pg_15', 'https://www.amazon.in/s?k=bags&page=16&crid=2M096C61O4MLT&qid=1692693812&sprefix=ba%2Caps%2C283&ref=sr_pg_16', 'https://www.amazon.in/s?k=bags&page=17&crid=2M096C61O4MLT&qid=1692693812&sprefix=ba%2Caps%2C283&ref=sr_pg_17', 'https://www.amazon.in/s?k=bags&page=18&crid=2M096C61O4MLT&qid=1692693812&sprefix=ba%2Caps%2C283&ref=sr_pg_18', 'https://www.amazon.in/s?k=bags&page=19&crid=2M096C61O4MLT&qid=1692693812&sprefix=ba%2Caps%2C283&ref=sr_pg_19', 'https://www.amazon.in/s?k=bags&page=20&crid=2M096C61O4MLT&qid=1692693812&sprefix=ba%2Caps%2C283&ref=sr_pg_20']\n"
          ]
        }
      ]
    },
    {
      "cell_type": "code",
      "source": [
        "url = \"https://www.amazon.in/s\"\n",
        "headers = {\n",
        "'authority': 'www.amazon.in',\n",
        "'pragma': 'no-cache',\n",
        "'cache-control': 'no-cache',\n",
        "'dnt': '1',\n",
        "'upgrade-insecure-requests': '1',\n",
        "'user-agent': 'Mozilla/5.0 (X11; CrOS x86_64 8172.45.0) AppleWebKit/537.36 (KHTML, like Gecko) Chrome/51.0.2704.64 Safari/537.36',\n",
        "'accept':  '*/*',            # 'text/html,application/xhtml+xml,application/xml;q=0.9,image/webp,image/apng,*/*;q=0.8,application/signed-exchange;v=b3;q=0.9',\n",
        "'sec-fetch-site': 'none',\n",
        "'sec-fetch-mode': 'no-cors',\n",
        "'sec-fetch-dest': 'document',\n",
        "'accept-language': 'en-GB,en-US;q=0.9,en;q=0.8',\n",
        "}\n",
        "params = {\n",
        "    \"k\": \"bags\",\n",
        "    \"crid\": \"2M096C61O4MLT\",\n",
        "    \"qid\": str(int(time.time())),\n",
        "    \"sprefix\": \"ba\",\n",
        "    \"ref\": \"sr_pg_1\"\n",
        "}\n",
        "\n",
        "response = requests.get(url, params=params, headers=headers)\n",
        "\n",
        "\n",
        "# r = response.text\n",
        "# soup = bs(r)\n",
        "# sp = soup.prettify()\n",
        "# print(sp)\n",
        "\n",
        "max_retries = 10\n",
        "retry_delay = 5\n",
        "p_name = []\n",
        "p_price = []\n",
        "p_rating = []\n",
        "p_url = []\n",
        "\n",
        "# for url in urlslist:\n",
        "for retry in range(max_retries):\n",
        "  response = requests.get(url, params=params, headers=headers)\n",
        "  if response.status_code==503:\n",
        "    print(f\"Received HTTP Error 503. Retrying in {retry_delay} seconds...\")\n",
        "    time.sleep(retry_delay)\n",
        "  elif response.status_code==200:\n",
        "    site_content = response.text\n",
        "    with open(\"/content/resp.html\", \"w\") as file:\n",
        "      file.write(site_content)\n",
        "    f = open(\"/content/resp.html\", \"r\")\n",
        "    c = f.read()\n",
        "    soup = bs(c, \"html.parser\")\n",
        "    p_link = soup.find_all(\"a\", class_=\"a-link-normal s-underline-text s-underline-link-text s-link-style a-text-normal\")\n",
        "    print(\"Original links:\", [x.get(\"href\") for x in p_link])\n",
        "    print(\"Link parent:\",[x.parent for x in p_link])\n",
        "    print(\"Link parent's parent:\",[x.parent.parent for x in p_link])\n",
        "    print(\"Link parent's parent's parent:\",[x.parent.parent.parent for x in p_link])\n",
        "    print(len(p_link))\n",
        "    break\n",
        "  else:\n",
        "    print(\"Some error occurred.\")\n",
        "\n",
        "\n",
        "# site_content = requests.get(url, headers=headers).text\n",
        "# soup = bs(site_content)\n",
        "# s =soup.prettify\n",
        "# print(s)\n",
        "# print(soup)"
      ],
      "metadata": {
        "colab": {
          "base_uri": "https://localhost:8080/"
        },
        "id": "Wt2g5VmqEYxh",
        "outputId": "f8a38d46-8b28-4a5e-e2dd-b421dbe73907"
      },
      "execution_count": 8,
      "outputs": [
        {
          "output_type": "stream",
          "name": "stdout",
          "text": [
            "Received HTTP Error 503. Retrying in 5 seconds...\n",
            "Received HTTP Error 503. Retrying in 5 seconds...\n",
            "Received HTTP Error 503. Retrying in 5 seconds...\n",
            "Received HTTP Error 503. Retrying in 5 seconds...\n",
            "Received HTTP Error 503. Retrying in 5 seconds...\n",
            "Received HTTP Error 503. Retrying in 5 seconds...\n",
            "Received HTTP Error 503. Retrying in 5 seconds...\n",
            "Received HTTP Error 503. Retrying in 5 seconds...\n",
            "Received HTTP Error 503. Retrying in 5 seconds...\n",
            "Received HTTP Error 503. Retrying in 5 seconds...\n"
          ]
        }
      ]
    },
    {
      "cell_type": "code",
      "source": [
        "f = open(\"/content/resp.html\", \"r\")\n",
        "c = f.read()\n",
        "soup = bs(c, \"html.parser\")\n",
        "p_link = soup.find_all(\"a\", class_=\"a-link-normal s-underline-text s-underline-link-text s-link-style a-text-normal\")\n",
        "print(\"Original links:\", [x.get(\"href\") for x in p_link])\n",
        "print(\"Product Name:\",[x.parent.text for x in p_link])\n",
        "# print(\"Link parent's parent:\",[x.parent.parent for x in p_link])\n",
        "print(\"Ratings:\",[x.parent.parent.parent.contents[1].text.split(\"  \")[0].split(\" \")[0] for x in p_link])\n",
        "print(\"Number of reviews:\",[x.parent.parent.parent.contents[1].text.split(\"  \")[0].split(\" \")[5] for x in p_link])\n",
        "print(len(p_link))"
      ],
      "metadata": {
        "colab": {
          "base_uri": "https://localhost:8080/"
        },
        "id": "m7wDm0moQdpH",
        "outputId": "023cfda5-8fcf-427f-eb00-0d092297d807"
      },
      "execution_count": 24,
      "outputs": [
        {
          "output_type": "stream",
          "name": "stdout",
          "text": [
            "Original links: ['/Skybags-Brat-Black-Casual-Backpack/dp/B08Z1HHHTD/ref=sr_1_1?crid=2M096C61O4MLT&keywords=bags&qid=1692723934&sprefix=ba&sr=8-1', '/American-Tourister-AMT-SCH-02/dp/B07CJCGM1M/ref=sr_1_2?crid=2M096C61O4MLT&keywords=bags&qid=1692723934&sprefix=ba&sr=8-2', '/Half-Moon-Backpack-Luggage-Compartment/dp/B09VCLZ3K4/ref=sr_1_3?crid=2M096C61O4MLT&keywords=bags&qid=1692723934&sprefix=ba&sr=8-3', '/AmazonBasics-Casual-Backpack-Office-15-6-inch/dp/B09W4VMZ79/ref=sxin_17_trfobq2av2_0_B09W4VMZ79?content-id=amzn1.sym.7abeb195-8e0b-4e74-aede-b7cb234213a5%3Aamzn1.sym.7abeb195-8e0b-4e74-aede-b7cb234213a5&crid=2M096C61O4MLT&cv_ct_cx=bags&keywords=bags&pd_rd_i=B09W4VMZ79&pd_rd_r=ac156c33-8473-42eb-a614-64ff559d3aa1&pd_rd_w=zLX6N&pd_rd_wg=A93qd&pf_rd_p=7abeb195-8e0b-4e74-aede-b7cb234213a5&pf_rd_r=6QRBCA5PEFBJ4T4NKW1V&qid=1692723934&sbo=RZvfv%2F%2FHxDF%2BO5021pAnSA%3D%3D&sprefix=ba&sr=1-1-973fd8bd-28ce-479e-8be4-fbaf1193947a', '/MosQuick%C2%AE-Drawstring-Organizing-Stationery-multipurpose/dp/B09SB5DP5Y/ref=sxin_17_trfobq2av2_1_B09SB5DP5Y?content-id=amzn1.sym.7abeb195-8e0b-4e74-aede-b7cb234213a5%3Aamzn1.sym.7abeb195-8e0b-4e74-aede-b7cb234213a5&crid=2M096C61O4MLT&cv_ct_cx=bags&keywords=bags&pd_rd_i=B09SB5DP5Y&pd_rd_r=ac156c33-8473-42eb-a614-64ff559d3aa1&pd_rd_w=zLX6N&pd_rd_wg=A93qd&pf_rd_p=7abeb195-8e0b-4e74-aede-b7cb234213a5&pf_rd_r=6QRBCA5PEFBJ4T4NKW1V&qid=1692723934&sbo=EO%2BcdOgoisx3waG5xqcZQA%3D%3D&sprefix=ba&sr=1-2-973fd8bd-28ce-479e-8be4-fbaf1193947a', '/Amazon-Brand-Presto-Oxo-Biodegradable-Garbage/dp/B0821PYKVK/ref=sxin_17_trfobq2av2_2_B0821PYKVK?content-id=amzn1.sym.7abeb195-8e0b-4e74-aede-b7cb234213a5%3Aamzn1.sym.7abeb195-8e0b-4e74-aede-b7cb234213a5&crid=2M096C61O4MLT&cv_ct_cx=bags&keywords=bags&pd_rd_i=B0821PYKVK&pd_rd_r=ac156c33-8473-42eb-a614-64ff559d3aa1&pd_rd_w=zLX6N&pd_rd_wg=A93qd&pf_rd_p=7abeb195-8e0b-4e74-aede-b7cb234213a5&pf_rd_r=6QRBCA5PEFBJ4T4NKW1V&qid=1692723934&sbo=Tc8eqSFhUl4VwMzbE4fw%2Fw%3D%3D&sprefix=ba&sr=1-3-973fd8bd-28ce-479e-8be4-fbaf1193947a', '/Amazon-Basics-Laptop-Backpack-Repellent/dp/B09W3XLDM2/ref=sxin_17_trfobq2av2_3_B09W3XLDM2?content-id=amzn1.sym.7abeb195-8e0b-4e74-aede-b7cb234213a5%3Aamzn1.sym.7abeb195-8e0b-4e74-aede-b7cb234213a5&crid=2M096C61O4MLT&cv_ct_cx=bags&keywords=bags&pd_rd_i=B09W3XLDM2&pd_rd_r=ac156c33-8473-42eb-a614-64ff559d3aa1&pd_rd_w=zLX6N&pd_rd_wg=A93qd&pf_rd_p=7abeb195-8e0b-4e74-aede-b7cb234213a5&pf_rd_r=6QRBCA5PEFBJ4T4NKW1V&qid=1692723934&sbo=RZvfv%2F%2FHxDF%2BO5021pAnSA%3D%3D&sprefix=ba&sr=1-4-973fd8bd-28ce-479e-8be4-fbaf1193947a', '/Backpack-Toddler-Animal-Cartoon-Travel/dp/B08D5RCWV9/ref=sxin_17_trfobq2av2_4_B08D5RCWV9?content-id=amzn1.sym.7abeb195-8e0b-4e74-aede-b7cb234213a5%3Aamzn1.sym.7abeb195-8e0b-4e74-aede-b7cb234213a5&crid=2M096C61O4MLT&cv_ct_cx=bags&keywords=bags&pd_rd_i=B08D5RCWV9&pd_rd_r=ac156c33-8473-42eb-a614-64ff559d3aa1&pd_rd_w=zLX6N&pd_rd_wg=A93qd&pf_rd_p=7abeb195-8e0b-4e74-aede-b7cb234213a5&pf_rd_r=6QRBCA5PEFBJ4T4NKW1V&qid=1692723934&sbo=RZvfv%2F%2FHxDF%2BO5021pAnSA%3D%3D&sprefix=ba&sr=1-5-973fd8bd-28ce-479e-8be4-fbaf1193947a', '/Amazon-Brand-Solimo-Diaper-Backpack/dp/B08FTHBRPY/ref=sxin_17_trfobq2av2_5_B08FTHBRPY?content-id=amzn1.sym.7abeb195-8e0b-4e74-aede-b7cb234213a5%3Aamzn1.sym.7abeb195-8e0b-4e74-aede-b7cb234213a5&crid=2M096C61O4MLT&cv_ct_cx=bags&keywords=bags&pd_rd_i=B08FTHBRPY&pd_rd_r=ac156c33-8473-42eb-a614-64ff559d3aa1&pd_rd_w=zLX6N&pd_rd_wg=A93qd&pf_rd_p=7abeb195-8e0b-4e74-aede-b7cb234213a5&pf_rd_r=6QRBCA5PEFBJ4T4NKW1V&qid=1692723934&sbo=RZvfv%2F%2FHxDF%2BO5021pAnSA%3D%3D&sprefix=ba&sr=1-6-973fd8bd-28ce-479e-8be4-fbaf1193947a', '/Dyazo-Backpack-Business-Notebook-computer/dp/B0C7HC675G/ref=sxin_17_trfobq2av2_6_B0C7HC675G?content-id=amzn1.sym.7abeb195-8e0b-4e74-aede-b7cb234213a5%3Aamzn1.sym.7abeb195-8e0b-4e74-aede-b7cb234213a5&crid=2M096C61O4MLT&cv_ct_cx=bags&keywords=bags&pd_rd_i=B0C7HC675G&pd_rd_r=ac156c33-8473-42eb-a614-64ff559d3aa1&pd_rd_w=zLX6N&pd_rd_wg=A93qd&pf_rd_p=7abeb195-8e0b-4e74-aede-b7cb234213a5&pf_rd_r=6QRBCA5PEFBJ4T4NKW1V&qid=1692723934&sbo=RZvfv%2F%2FHxDF%2BO5021pAnSA%3D%3D&sprefix=ba&sr=1-7-973fd8bd-28ce-479e-8be4-fbaf1193947a', '/School-Backpack-Cartoon-Travel-Toddler/dp/B097NHH5YY/ref=sxin_17_trfobq2av2_7_B097NHH5YY?content-id=amzn1.sym.7abeb195-8e0b-4e74-aede-b7cb234213a5%3Aamzn1.sym.7abeb195-8e0b-4e74-aede-b7cb234213a5&crid=2M096C61O4MLT&cv_ct_cx=bags&keywords=bags&pd_rd_i=B097NHH5YY&pd_rd_r=ac156c33-8473-42eb-a614-64ff559d3aa1&pd_rd_w=zLX6N&pd_rd_wg=A93qd&pf_rd_p=7abeb195-8e0b-4e74-aede-b7cb234213a5&pf_rd_r=6QRBCA5PEFBJ4T4NKW1V&qid=1692723934&sbo=RZvfv%2F%2FHxDF%2BO5021pAnSA%3D%3D&sprefix=ba&sr=1-8-973fd8bd-28ce-479e-8be4-fbaf1193947a', '/Half-Moon-Waterproof-Backpack-Students/dp/B085MHDJ93/ref=sr_1_4?crid=2M096C61O4MLT&keywords=bags&qid=1692723934&sprefix=ba&sr=8-4', '/Rucksack-Travel-Backpack-Trekking-Compartment/dp/B07YDGQQN5/ref=sr_1_5?crid=2M096C61O4MLT&keywords=bags&qid=1692723934&sprefix=ba&sr=8-5', '/Safari-45L-21-OB-BLK/dp/B07BZ5VC4H/ref=sr_1_6?crid=2M096C61O4MLT&keywords=bags&qid=1692723934&sprefix=ba&sr=8-6', '/Number-Backpack-Compartment-Charging-Organizer/dp/B09VTDMRY7/ref=sr_1_7?crid=2M096C61O4MLT&keywords=bags&qid=1692723934&sprefix=ba&sr=8-7', '/TRUE-HUMAN-Anti-Theft-backpack-charging/dp/B09QJ7ZF2Y/ref=sr_1_8?crid=2M096C61O4MLT&keywords=bags&qid=1692723934&sprefix=ba&sr=8-8', '/FUR-JADEN-Leatherette-Polypropylene-DUFF05/dp/B07M9BRCQ5/ref=sr_1_9?crid=2M096C61O4MLT&keywords=bags&qid=1692723934&sprefix=ba&sr=8-9', '/Backpack-Small-Black-Water-Repellant/dp/B088XB5XY8/ref=sr_1_10?crid=2M096C61O4MLT&keywords=bags&qid=1692723934&sprefix=ba&sr=8-10', '/Half-Moon-Resistant-Backpack-Compartment/dp/B0BJ32LQ6X/ref=sr_1_11?crid=2M096C61O4MLT&keywords=bags&qid=1692723934&sprefix=ba&sr=8-11', '/Police-Polyester-laptop-casual-backpack/dp/B09CQ5T3LN/ref=sr_1_12?crid=2M096C61O4MLT&keywords=bags&qid=1692723934&sprefix=ba&sr=8-12', '/GEAR-Black-Blue-Backpack-years/dp/B019HA8AYG/ref=sr_1_13?crid=2M096C61O4MLT&keywords=bags&qid=1692723934&sprefix=ba&sr=8-13', '/Gear-Classic-Leather-Backpack-LBPCLSLTH0201/dp/B07G4F6XFH/ref=sr_1_14?crid=2M096C61O4MLT&keywords=bags&qid=1692723934&sprefix=ba&sr=8-14', '/Wesley-Milestone-Waterproof-Backpack-Business/dp/B084JGJ8PF/ref=sr_1_15?crid=2M096C61O4MLT&keywords=bags&qid=1692723934&sprefix=ba&sr=8-15', '/American-Tourister-BACKPACK-COMPARTMENT-ORGANIZER/dp/B0BTD4FK9G/ref=sr_1_16?crid=2M096C61O4MLT&keywords=bags&qid=1692723934&sprefix=ba&sr=8-16']\n",
            "Product Name: ['Skybags Brat Black 46 Cms Casual Backpack  ', 'American Tourister Fizz Large Size 32 Ltrs Casual Backpack (BLACK)  ', 'Half Moon Large 37L Laptop Bag Backpack for menं Women Boys and Girls Luggage Travel Bags with 17.3 inches Laptop Compartment & Rain Cover  ', 'AmazonBasics - Casual Backpack/Office Bag/ for a 15.6-inch Laptop  ', 'MosQuick® Clear large Drawstring Bags Clear Plastic Travel Bags, Travel Garments Organizing Storage Plastic Bags ,Shoe bags , Stationery Bag,multipurpose bag - Translucent  ', 'Presto! Oxo-Biodegradable Garbage Bags, Large (24 x 32 inches) - 15 bags/roll (Pack of 6, Black, plastic)  ', 'Amazon Basics Laptop Backpack  ', 'Blue Tree Kids Backpack Mini Travel Bag 1-6 Years COW  ', 'Amazon Brand - Solimo Diaper Backpack, Cat Print  ', 'Dyazo Slim 15.6 inch Laptop Backpack Business Notebook computer bag suitable for office College School Men & Women  ', 'Blue Tree Kids School Bag Soft Plush Backpack Cartoon Bags Mini Travel Bag for for Girls Boys Toddler Baby Cute Dog & Koala  ', 'Half Moon 35 Ltrs Water Resistant 15.6 inch Laptop Bag for Men/Backpack for Men, Navy Blue | Office Bag for Men/Office Bag for Women with Padded Laptop Compartment | Rain Cover & Reflective Strips  ', 'Fur Jaden 55 LTR Rucksack Travel Backpack Bag for Trekking, Hiking with Shoe Compartment  ', 'Safari Seek 45 Ltrs Overnighter Expandable Travel Laptop Backpack  ', 'FUR JADEN Anti Theft Number Lock Backpack Bag with 15.6 Inch Laptop Compartment, USB Charging Port & Organizer Pocket for Men Women Boys Girls  ', 'TRUE HUMAN EMPEROR® Anti-Theft backpack With USB charging Port Laptop bag/Office bag/college bag/travel bag with anti -theft back pocket (LEGEND)  ', 'Fur Jaden Brown Textured Leatherette Stylish & Spacious Weekender Duffle Bag for Travel  ', 'Mi Step Out 12 L Mini Backpack (Small Size, Black, Water Repellant)  ', 'Half Moon Large 37L Laptop Bag Backpack for menं Women Boys and Girls Luggage Travel Bags with 17.3 inches Laptop Compartment & Rain Cover  ', 'POLICE Backpack for Men Casual Laptop Bag Office/Travel/College 30 Ltr Hedge Polyester - Black  ', 'Gear CarryOn 16L Foldable Water Resistant School Bag//Backpack/College Bag for Men/Women - Blue Black  ', 'Gear Classic 20L Small Size Faux Leather Water Resistant Anti Theft Unisex Laptop Backpack- Brown  ', 'Wesley Milestone 2.0 Casual Waterproof Laptop Backpack/Office Bag/School Bag/College Bag/Business Bag/Travel Backpack (Dimensions:13x18 inches) (Compatible with 39.62cm(15.6inch laptop) 30 L (Blue & black)  ', 'American Tourister VALEX BLUE LAPTOP BACKPACK 28 Ltrs,Volume, LAPTOP COMPARTMENT, BOTTLE POCKET, FRONT ORGANIZER  ']\n",
            "Link parent's parent's parent: ['4.1', '4.0', '3.9', '4.0', '4.1', 'Presto!', '4.2', '4.0', '4.0', '4.5', 'Blue', '3.9', '4.3', '4.5', '4.0', '3.7', '4.3', '4.1', '3.9', '4.1', '3.7', '4.4', '4.3', '4.2']\n",
            "Link parent's parent's parent: ['5,534', '55,280', '3,451', '378', '74', '(24', '507', '385', '39', '9', 'Soft', '16,975', '5,607', '7,390', '5,627', '2,464', '6,515', '9,712', '3,451', '5,858', '7,059', '6,041', '12,365', '674']\n",
            "24\n"
          ]
        }
      ]
    },
    {
      "cell_type": "code",
      "source": [],
      "metadata": {
        "id": "ci_XkOziubYK"
      },
      "execution_count": null,
      "outputs": []
    },
    {
      "cell_type": "code",
      "source": [
        "#a-link-normal s-underline-text s-underline-link-text s-link-style a-text-normal\n",
        "#for link href\n",
        "\n",
        "\n",
        "#span class of 24 products inclusing sponsored\n",
        "#a-size-medium a-color-base a-text-normal\n",
        "\n",
        "# a-size-base-plus a-color-base a-text-normal\n",
        "# span class 13 products sliding horizontally"
      ],
      "metadata": {
        "colab": {
          "base_uri": "https://localhost:8080/",
          "height": 143
        },
        "id": "qYgAXEpcFokH",
        "outputId": "805cfa73-ab33-41ba-da64-5c5cf8001b6f"
      },
      "execution_count": 5,
      "outputs": [
        {
          "output_type": "error",
          "ename": "SyntaxError",
          "evalue": "ignored",
          "traceback": [
            "\u001b[0;36m  File \u001b[0;32m\"<ipython-input-5-86f335027270>\"\u001b[0;36m, line \u001b[0;32m8\u001b[0m\n\u001b[0;31m    a-size-base-plus a-color-base a-text-normal\u001b[0m\n\u001b[0m                     ^\u001b[0m\n\u001b[0;31mSyntaxError\u001b[0m\u001b[0;31m:\u001b[0m invalid syntax\n"
          ]
        }
      ]
    },
    {
      "cell_type": "code",
      "source": [
        "# url = \"https://www.amazon.in/s?k=bags&crid=2M096C61O4MLT&qid=\"+str(int(time.time()))+\"&sprefix=ba%2Caps%2C283&ref=sr_pg_1\"\n",
        "# import urllib\n",
        "# max_retries = 10\n",
        "# retry_delay = 5\n",
        "\n",
        "# # for url in urlslist:\n",
        "# for retry in range(max_retries):\n",
        "#     try:\n",
        "#         amazon = urllib.request.urlopen(url)\n",
        "#         html = amazon.read()\n",
        "#         print(html)\n",
        "#         # with open(\"resp.html\", \"w\") as file:\n",
        "#         #   file.write(html)\n",
        "#         # soup = bs(\"./content/resp.html\", \"html.parser\")\n",
        "#         # p_name = soup.find_all(\"h2\")\n",
        "#         # print(p_name)\n",
        "#         break\n",
        "#     except urllib.error.HTTPError as e:\n",
        "#         if e.code == 503:\n",
        "#             print(f\"Received HTTP Error 503. Retrying in {retry_delay} seconds...\")\n",
        "#             time.sleep(retry_delay)\n",
        "#         else:\n",
        "#             print(\"An error occurred:\", e)\n",
        "#             break\n"
      ],
      "metadata": {
        "id": "kUmtpUOYeOk9"
      },
      "execution_count": 4,
      "outputs": []
    },
    {
      "cell_type": "code",
      "source": [],
      "metadata": {
        "id": "PtRYxrm_FqEf"
      },
      "execution_count": null,
      "outputs": []
    }
  ]
}